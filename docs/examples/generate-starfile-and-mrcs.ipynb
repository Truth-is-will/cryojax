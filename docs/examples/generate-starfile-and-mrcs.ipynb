{
 "cells": [
  {
   "cell_type": "code",
   "execution_count": null,
   "metadata": {},
   "outputs": [],
   "source": [
    "%load_ext autoreload\n",
    "%autoreload 2"
   ]
  },
  {
   "cell_type": "code",
   "execution_count": null,
   "metadata": {},
   "outputs": [],
   "source": [
    "# Jax imports\n",
    "import jax\n",
    "import jax.numpy as jnp"
   ]
  },
  {
   "cell_type": "code",
   "execution_count": null,
   "metadata": {},
   "outputs": [],
   "source": [
    "# Plotting imports and functions\n",
    "from matplotlib import pyplot as plt\n",
    "from mpl_toolkits.axes_grid1 import make_axes_locatable\n",
    "\n",
    "\n",
    "def plot_image(image, fig, ax, cmap=\"gray\", label=None, **kwargs):\n",
    "    im = ax.imshow(image, cmap=cmap, origin=\"lower\", **kwargs)\n",
    "    divider = make_axes_locatable(ax)\n",
    "    cax = divider.append_axes(\"right\", size=\"5%\", pad=0.05)\n",
    "    fig.colorbar(im, cax=cax)\n",
    "    if label is not None:\n",
    "        ax.set(title=label)\n",
    "    return fig, ax"
   ]
  },
  {
   "cell_type": "code",
   "execution_count": null,
   "metadata": {},
   "outputs": [],
   "source": [
    "# CryoJAX imports\n",
    "from jaxtyping import install_import_hook\n",
    "\n",
    "\n",
    "with install_import_hook(\"cryojax\", \"typeguard.typechecked\"):\n",
    "    import cryojax as cx\n",
    "    import cryojax.simulator as cxs\n",
    "    from cryojax.data import generate_starfile, RelionParticleStack\n",
    "    from cryojax.io import read_atoms_from_pdb\n",
    "    from cryojax.rotations import SO3"
   ]
  },
  {
   "cell_type": "markdown",
   "metadata": {},
   "source": [
    "# Generating a starfile\n",
    "\n",
    "To generate a starfile we will first create a cryojax RelionParticleStack"
   ]
  },
  {
   "cell_type": "code",
   "execution_count": null,
   "metadata": {},
   "outputs": [],
   "source": [
    "from functools import partial\n",
    "\n",
    "import equinox as eqx\n",
    "import equinox.internal as eqxi\n",
    "from jaxtyping import PRNGKeyArray\n",
    "\n",
    "from cryojax.image import operators as op\n",
    "\n",
    "\n",
    "@partial(eqx.filter_vmap, in_axes=(0, None), out_axes=eqxi.if_mapped(axis=0))\n",
    "def make_relion_dataset(\n",
    "    key: PRNGKeyArray, instrument_config: cxs.InstrumentConfig\n",
    ") -> RelionParticleStack:\n",
    "    # Generate random values\n",
    "\n",
    "    # Pose\n",
    "    # ... instantiate rotations\n",
    "    rotation = SO3.sample_uniform(key)\n",
    "    key, subkey = jax.random.split(key)\n",
    "\n",
    "    # ... now in-plane translation\n",
    "    ny, nx = instrument_config.shape\n",
    "    in_plane_offset_in_angstroms = (\n",
    "        jax.random.uniform(subkey, (2,), minval=-0.45, maxval=0.45)\n",
    "        * jnp.asarray((nx, ny))\n",
    "        * instrument_config.pixel_size\n",
    "    )\n",
    "    key, subkey = jax.random.split(key)\n",
    "    # ... convert 2D in-plane translation to 3D, setting the out-of-plane translation to\n",
    "    # zero\n",
    "    offset_in_angstroms = jnp.pad(in_plane_offset_in_angstroms, ((0, 1),))\n",
    "    # ... build the pose\n",
    "    pose = cxs.EulerAnglePose.from_rotation_and_translation(rotation, offset_in_angstroms)\n",
    "\n",
    "    # CTF Parameters\n",
    "    # ... defocus\n",
    "    defocus_in_angstroms = jax.random.uniform(subkey, (), minval=1000, maxval=1500)\n",
    "    key, subkey = jax.random.split(key)\n",
    "\n",
    "    astigmatism_in_angstroms = jax.random.uniform(subkey, (), minval=1000, maxval=1500)\n",
    "    key, subkey = jax.random.split(key)\n",
    "\n",
    "    astigmatism_angle = jax.random.uniform(subkey, (), minval=0, maxval=jnp.pi)\n",
    "    key, subkey = jax.random.split(key)\n",
    "\n",
    "    # now generate your non random values\n",
    "    spherical_aberration_in_mm = 2.7\n",
    "    amplitude_contrast_ratio = 0.1\n",
    "    phase_shift = 0.0\n",
    "    b_factor = 170.0\n",
    "    ctf_scale_factor = 1.0\n",
    "\n",
    "    # ... build the CTF\n",
    "    transfer_theory = cxs.ContrastTransferTheory(\n",
    "        ctf=cxs.ContrastTransferFunction(\n",
    "            defocus_in_angstroms=defocus_in_angstroms,\n",
    "            astigmatism_in_angstroms=astigmatism_in_angstroms,\n",
    "            astigmatism_angle=astigmatism_angle,\n",
    "            voltage_in_kilovolts=instrument_config.voltage_in_kilovolts,\n",
    "            spherical_aberration_in_mm=spherical_aberration_in_mm,\n",
    "            amplitude_contrast_ratio=amplitude_contrast_ratio,\n",
    "            phase_shift=phase_shift,\n",
    "        ),\n",
    "        envelope=op.FourierGaussian(b_factor=b_factor, amplitude=ctf_scale_factor),\n",
    "    )\n",
    "\n",
    "    relion_particle_stack = RelionParticleStack(\n",
    "        instrument_config=instrument_config,\n",
    "        pose=pose,\n",
    "        transfer_theory=transfer_theory,\n",
    "    )\n",
    "    return relion_particle_stack"
   ]
  },
  {
   "cell_type": "code",
   "execution_count": null,
   "metadata": {},
   "outputs": [],
   "source": [
    "# Generate instrument config\n",
    "instrument_config = cxs.InstrumentConfig(\n",
    "    shape=(128, 128),\n",
    "    pixel_size=1.5,\n",
    "    voltage_in_kilovolts=300.0,\n",
    "    pad_scale=1.0,  # no padding\n",
    ")\n",
    "\n",
    "# Generate RNG keys\n",
    "number_of_images = 10\n",
    "keys = jax.random.split(jax.random.PRNGKey(0), number_of_images)\n",
    "\n",
    "# ... instantiate the RelionParticleStack\n",
    "relion_particle_stack = make_relion_dataset(keys, instrument_config)"
   ]
  },
  {
   "cell_type": "code",
   "execution_count": null,
   "metadata": {},
   "outputs": [],
   "source": [
    "relion_particle_stack.transfer_theory.envelope"
   ]
  },
  {
   "cell_type": "code",
   "execution_count": null,
   "metadata": {},
   "outputs": [],
   "source": [
    "# ... generate the starfile\n",
    "generate_starfile(relion_particle_stack, \"relion_dataset.star\", mrc_batch_size=10)"
   ]
  },
  {
   "cell_type": "markdown",
   "metadata": {},
   "source": [
    "# Generating particles from starfile\n",
    "\n",
    "In the previous step we generated a starfile. To allow for more flexibility in the simulation of images, we have split the generation of starfiles and mrcfiles into two steps. In this step we will define an imaging pipeline template, which will be used to generate the mrcfiles."
   ]
  },
  {
   "cell_type": "code",
   "execution_count": null,
   "metadata": {},
   "outputs": [],
   "source": [
    "# First, load the scattering potential and projection method\n",
    "# Instantiate the scattering potential\n",
    "filename = \"./data/groel_chainA.pdb\"\n",
    "atom_positions, atom_identities, b_factors = read_atoms_from_pdb(\n",
    "    filename, assemble=False, get_b_factors=True\n",
    ")\n",
    "atomic_potential = cxs.PengAtomicPotential(atom_positions, atom_identities, b_factors)\n",
    "box_size = instrument_config.shape[0]\n",
    "voxel_size = instrument_config.pixel_size\n",
    "\n",
    "real_voxel_grid = atomic_potential.as_real_voxel_grid(\n",
    "    shape=(box_size, box_size, box_size), voxel_size=voxel_size\n",
    ")\n",
    "potential = cxs.FourierVoxelGridPotential.from_real_voxel_grid(\n",
    "    real_voxel_grid, voxel_size, pad_scale=2\n",
    ")\n",
    "\n",
    "potential_integrator = cxs.FourierSliceExtraction(interpolation_order=1)"
   ]
  },
  {
   "cell_type": "markdown",
   "metadata": {},
   "source": [
    "Now we will create a template for our imaging pipeline. The pose and transfer theory will be generated as default, as the values will be updated from the starfile we generated in the previous step"
   ]
  },
  {
   "cell_type": "code",
   "execution_count": null,
   "metadata": {},
   "outputs": [],
   "source": [
    "pose = cxs.EulerAnglePose()\n",
    "\n",
    "transfer_theory = cxs.ContrastTransferTheory(ctf=cxs.ContrastTransferFunction())\n",
    "\n",
    "structural_ensemble = cxs.SingleStructureEnsemble(potential, pose)\n",
    "\n",
    "scattering_theory = cxs.WeakPhaseScatteringTheory(\n",
    "    structural_ensemble, potential_integrator, transfer_theory\n",
    ")\n",
    "\n",
    "strength = 0.05 * real_voxel_grid.sum(axis=0).max() * voxel_size\n",
    "solvent = cxs.GaussianIce(\n",
    "    variance_function=op.Lorenzian(\n",
    "        amplitude=strength**2, length_scale=2.0 * potential.voxel_size\n",
    "    )\n",
    ")\n",
    "\n",
    "imaging_pipeline = cxs.ContrastImagingPipeline(instrument_config, scattering_theory)"
   ]
  },
  {
   "cell_type": "markdown",
   "metadata": {},
   "source": [
    "Checking how the image from the imaging pipeline looks"
   ]
  },
  {
   "cell_type": "code",
   "execution_count": null,
   "metadata": {},
   "outputs": [],
   "source": [
    "fig, ax = plt.subplots(1, 1, figsize=(5, 5))\n",
    "\n",
    "im1 = plot_image(\n",
    "    imaging_pipeline.render(),\n",
    "    fig,\n",
    "    ax,\n",
    ")"
   ]
  },
  {
   "cell_type": "markdown",
   "metadata": {},
   "source": [
    "Now let's define a noise distribution"
   ]
  },
  {
   "cell_type": "code",
   "execution_count": null,
   "metadata": {},
   "outputs": [],
   "source": [
    "from cryojax.inference import distributions as dist\n",
    "\n",
    "\n",
    "distribution = dist.IndependentGaussianFourierModes(\n",
    "    imaging_pipeline,\n",
    "    signal_scale_factor=jnp.sqrt(instrument_config.n_pixels),\n",
    "    variance_function=op.Constant(1.0),\n",
    ")\n",
    "\n",
    "key = jax.random.PRNGKey(seed=0)\n",
    "\n",
    "fig, ax1 = plt.subplots(1, 1, figsize=(5, 5))\n",
    "im1 = plot_image(\n",
    "    distribution.sample(key),\n",
    "    fig,\n",
    "    ax1,\n",
    "    label=\"image with noise\",\n",
    ")"
   ]
  },
  {
   "cell_type": "markdown",
   "metadata": {},
   "source": [
    "Lastly, let's define our vmapping filter"
   ]
  },
  {
   "cell_type": "code",
   "execution_count": null,
   "metadata": {},
   "outputs": [],
   "source": [
    "def batch_filter(distribution: dist.AbstractDistribution):\n",
    "    \"\"\"\n",
    "    These are the only leaves that have a batch size in the starfile\n",
    "    \"\"\"\n",
    "    output = (\n",
    "        distribution.imaging_pipeline.scattering_theory.structural_ensemble.pose.offset_x_in_angstroms,\n",
    "        distribution.imaging_pipeline.scattering_theory.structural_ensemble.pose.offset_y_in_angstroms,\n",
    "        distribution.imaging_pipeline.scattering_theory.structural_ensemble.pose.view_phi,\n",
    "        distribution.imaging_pipeline.scattering_theory.structural_ensemble.pose.view_theta,\n",
    "        distribution.imaging_pipeline.scattering_theory.structural_ensemble.pose.view_psi,\n",
    "        distribution.imaging_pipeline.scattering_theory.transfer_theory.ctf.defocus_in_angstroms,\n",
    "        distribution.imaging_pipeline.scattering_theory.transfer_theory.ctf.astigmatism_in_angstroms,\n",
    "        distribution.imaging_pipeline.scattering_theory.transfer_theory.ctf.astigmatism_angle,\n",
    "        distribution.imaging_pipeline.scattering_theory.transfer_theory.ctf.phase_shift,\n",
    "        distribution.imaging_pipeline.scattering_theory.transfer_theory.envelope,\n",
    "    )\n",
    "    return output"
   ]
  },
  {
   "cell_type": "code",
   "execution_count": null,
   "metadata": {},
   "outputs": [],
   "source": [
    "import os\n",
    "import pathlib\n",
    "from typing import Optional\n",
    "\n",
    "from cryojax.data import RelionDataset\n",
    "from cryojax.io import write_image_stack_to_mrc\n",
    "\n",
    "\n",
    "@eqx.filter_jit\n",
    "@eqx.filter_vmap(in_axes=(0, None, 0), out_axes=0)\n",
    "def compute_noisy_image_stack(\n",
    "    dist_vmap: dist.AbstractDistribution,\n",
    "    dist_novmap: dist.AbstractDistribution,\n",
    "    key: PRNGKeyArray,\n",
    "):\n",
    "    \"\"\"Simulate an image with noise from a `imaging_pipeline`.\"\"\"\n",
    "    distribution = eqx.combine(dist_vmap, dist_novmap)\n",
    "\n",
    "    return distribution.sample(key)\n",
    "\n",
    "\n",
    "def generate_particles_from_starfile(\n",
    "    path_to_starfile: str | pathlib.Path,\n",
    "    path_to_relion_project: str | pathlib.Path,\n",
    "    distribution: dist.AbstractDistribution,\n",
    "    key: PRNGKeyArray,\n",
    "    overwrite: bool = False,\n",
    "    compression: Optional[str] = None,\n",
    ") -> None:\n",
    "    dataset = RelionDataset(\n",
    "        path_to_starfile=path_to_starfile,\n",
    "        path_to_relion_project=path_to_relion_project,\n",
    "        get_image_stack=False,\n",
    "    )\n",
    "\n",
    "    particles_fnames = dataset.data_blocks[\"particles\"][\"rlnImageName\"].str.split(\n",
    "        \"@\", expand=True\n",
    "    )\n",
    "    mrc_fnames = particles_fnames[1].unique()\n",
    "\n",
    "    if not os.path.exists(path_to_relion_project):\n",
    "        os.makedirs(path_to_relion_project)\n",
    "\n",
    "    key, subkey = jax.random.split(key)\n",
    "    filter_spec = cx.get_filter_spec(distribution, batch_filter)\n",
    "\n",
    "    for mrc_fname in mrc_fnames:\n",
    "        indices = particles_fnames[particles_fnames[1] == mrc_fname].index.to_numpy()\n",
    "        relion_particle_stack = dataset[indices]\n",
    "\n",
    "        new_distribution = eqx.tree_at(\n",
    "            lambda d: d.imaging_pipeline.instrument_config,\n",
    "            distribution,\n",
    "            relion_particle_stack.instrument_config,\n",
    "        )\n",
    "\n",
    "        new_distribution = eqx.tree_at(\n",
    "            lambda d: d.imaging_pipeline.scattering_theory.structural_ensemble.pose,\n",
    "            new_distribution,\n",
    "            relion_particle_stack.pose,\n",
    "        )\n",
    "\n",
    "        new_distribution = eqx.tree_at(\n",
    "            lambda d: d.imaging_pipeline.scattering_theory.transfer_theory,\n",
    "            new_distribution,\n",
    "            relion_particle_stack.transfer_theory,\n",
    "        )\n",
    "\n",
    "        keys = jax.random.split(subkey, len(indices) + 1)\n",
    "        subkey = keys[-1]\n",
    "\n",
    "        image_stack = compute_noisy_image_stack(\n",
    "            *eqx.partition(new_distribution, filter_spec), keys[:-1]\n",
    "        )\n",
    "\n",
    "        filename = os.path.join(path_to_relion_project, mrc_fname)\n",
    "        write_image_stack_to_mrc(\n",
    "            image_stack,\n",
    "            pixel_size=relion_particle_stack.instrument_config.pixel_size,\n",
    "            filename=filename,\n",
    "            overwrite=overwrite,\n",
    "            compression=compression,\n",
    "        )\n",
    "\n",
    "    return"
   ]
  },
  {
   "cell_type": "code",
   "execution_count": null,
   "metadata": {},
   "outputs": [],
   "source": [
    "key = jax.random.PRNGKey(seed=0)\n",
    "generate_particles_from_starfile(\n",
    "    \"relion_dataset.star\", \"relion_project\", distribution, key, overwrite=True\n",
    ")"
   ]
  },
  {
   "cell_type": "code",
   "execution_count": null,
   "metadata": {},
   "outputs": [],
   "source": [
    "dataset = RelionDataset(\n",
    "    path_to_starfile=\"relion_dataset.star\",\n",
    "    path_to_relion_project=\"relion_project/\",\n",
    "    get_image_stack=True,\n",
    ")"
   ]
  },
  {
   "cell_type": "code",
   "execution_count": null,
   "metadata": {},
   "outputs": [],
   "source": [
    "fig, ax = plt.subplots(1, 1, figsize=(5, 5))\n",
    "\n",
    "im1 = plot_image(\n",
    "    dataset[0].image_stack,\n",
    "    fig,\n",
    "    ax,\n",
    "    label=\"image with noise\",\n",
    ")"
   ]
  }
 ],
 "metadata": {
  "kernelspec": {
   "display_name": "cryojax-env",
   "language": "python",
   "name": "python3"
  },
  "language_info": {
   "codemirror_mode": {
    "name": "ipython",
    "version": 3
   },
   "file_extension": ".py",
   "mimetype": "text/x-python",
   "name": "python",
   "nbconvert_exporter": "python",
   "pygments_lexer": "ipython3",
   "version": "3.11.9"
  }
 },
 "nbformat": 4,
 "nbformat_minor": 2
}
